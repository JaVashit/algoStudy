{
 "cells": [
  {
   "cell_type": "markdown",
   "metadata": {},
   "source": [
    "# 1. Backtracking"
   ]
  },
  {
   "cell_type": "markdown",
   "metadata": {},
   "source": [
    "- 백트래킹\n",
    "<br>\n",
    "비효율적인 경로를 차단하고 목표지점에 갈 수 있는 가능성이 있는 루트를 검사하는 방법, DFS에 가지치기를 통해 가도 되지 않는 루트는 고려하지 않고 탐색하는 완전탐색 기법(재귀를 이용한 완전 검색을 하고 가지치기를 추가하는 기법)\n",
    "<br>\n",
    "<br>\n",
    "- 백트래킹이 사용되는 문제\n",
    "<br>\n",
    "최적화문제와 결정문제(문제의 조건을 만족하는 해가 존재하는지의 여부를 y/n으로 답하는 문제)를 해결할 수 있음\n",
    "<br>\n",
    "ex) 미로찾기, n-queen, map coloring, 부분집합의 합 등\n",
    "<br>\n",
    "<br>\n",
    "- 백트래킹 유망성 판단\n",
    "<br>\n",
    "어떤 노드가 해가 될만한지 판단 후 유망하지 않으면 그 노드 이전으로 돌아사 다음 자식 노드로 가는 과정\n",
    "<br>\n",
    "해가 될 가능성이 있음 = 유망하다\n",
    "<br>\n",
    "유망하지 않은 노드에 가지 않는 것 = 가지치기"
   ]
  },
  {
   "cell_type": "markdown",
   "metadata": {},
   "source": [
    "# 2. Example"
   ]
  },
  {
   "cell_type": "markdown",
   "metadata": {},
   "source": [
    "### 1) N-queen 문제\n",
    "체스판의 가로, 세로의 길이 n이 매개변수로 주어질때, n개의 퀸이 조건에 만족하도록(서로 공격할 수 없게) 배치할 수 있는 방법의 수를 return 하는 함수\n",
    "<br>\n",
    "- 제한사항 \n",
    "<br>\n",
    "queen은 가로, 세로, 대각선으로 이동할 수 있기때문에 서로 공격을 못하도록 배치하는 방법의 수를 return\n",
    "<br>\n",
    "n은 12 이하의 자연수"
   ]
  },
  {
   "cell_type": "code",
   "execution_count": 3,
   "metadata": {},
   "outputs": [],
   "source": [
    "def dfs(queen, row, n):\n",
    "    count = 0\n",
    "    if n == row:\n",
    "        return 1\n",
    "    for col in range(n):\n",
    "        queen[row] = col\n",
    "        for i in range(row):\n",
    "            if queen[i] == queen[row]:\n",
    "                break\n",
    "            if abs(queen[i]-queen[row]) == row - i:\n",
    "                break\n",
    "        else:\n",
    "            count += dfs(queen, row + 1, n)\n",
    "    return count\n",
    "def solution(n):\n",
    "    return dfs([0]*n, 0, n)       "
   ]
  },
  {
   "cell_type": "code",
   "execution_count": 4,
   "metadata": {},
   "outputs": [
    {
     "data": {
      "text/plain": [
       "2"
      ]
     },
     "execution_count": 4,
     "metadata": {},
     "output_type": "execute_result"
    }
   ],
   "source": [
    "solution(4)"
   ]
  },
  {
   "cell_type": "code",
   "execution_count": null,
   "metadata": {},
   "outputs": [],
   "source": []
  }
 ],
 "metadata": {
  "kernelspec": {
   "display_name": "Python 3",
   "language": "python",
   "name": "python3"
  },
  "language_info": {
   "codemirror_mode": {
    "name": "ipython",
    "version": 3
   },
   "file_extension": ".py",
   "mimetype": "text/x-python",
   "name": "python",
   "nbconvert_exporter": "python",
   "pygments_lexer": "ipython3",
   "version": "3.7.7"
  }
 },
 "nbformat": 4,
 "nbformat_minor": 4
}
