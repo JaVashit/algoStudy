{
 "cells": [
  {
   "cell_type": "markdown",
   "metadata": {},
   "source": [
    "https://www.acmicpc.net/problem/2178"
   ]
  },
  {
   "cell_type": "code",
   "execution_count": 20,
   "metadata": {},
   "outputs": [],
   "source": [
    "from collections import deque"
   ]
  },
  {
   "cell_type": "code",
   "execution_count": 24,
   "metadata": {},
   "outputs": [
    {
     "name": "stdout",
     "output_type": "stream",
     "text": [
      "4 6\n",
      "101111\n",
      "101010\n",
      "101011\n",
      "111011\n",
      "15\n"
     ]
    }
   ],
   "source": [
    "n, m = map(int, input().split()) #그래프 행렬 입력받기\n",
    "\n",
    "#그래프 생성\n",
    "graph = []\n",
    "for i in range(n):\n",
    "    graph.append(list(map(int, input())))\n",
    "    \n",
    "#x,y 좌표 움직이기    \n",
    "dx = [-1,1,0,0]\n",
    "dy = [0,0,-1,1]\n",
    "\n",
    "\n",
    "\n",
    "def maze(x,y):\n",
    "    queue = deque()\n",
    "    queue.append((x,y))\n",
    "    while queue: #queue 비워질때까지 시행\n",
    "        x, y = queue.popleft()\n",
    "        for i in range(4):\n",
    "            nx = x + dx[i]\n",
    "            ny = y + dy[i]\n",
    "            if nx < 0 or ny < 0 or nx >= n or ny >= m: #그래프 밖으로 나가면 수행X\n",
    "                continue\n",
    "            if graph[nx][ny] == 0: #그래프내에서 0인 경우 수행X\n",
    "                continue\n",
    "            if graph[nx][ny] == 1: #그래프내에서 1인 경우 수행\n",
    "                graph[nx][ny] = graph[x][y] + 1 #한번 수행할때마다 해당 좌표에 수행 총 횟수 찍기\n",
    "                queue.append((nx, ny))\n",
    "    return graph[n-1][m-1] #도착지점에 있는 총 수행횟수 출력\n",
    "\n",
    "print(maze(0,0))"
   ]
  },
  {
   "cell_type": "code",
   "execution_count": null,
   "metadata": {},
   "outputs": [],
   "source": []
  }
 ],
 "metadata": {
  "kernelspec": {
   "display_name": "Python 3",
   "language": "python",
   "name": "python3"
  },
  "language_info": {
   "codemirror_mode": {
    "name": "ipython",
    "version": 3
   },
   "file_extension": ".py",
   "mimetype": "text/x-python",
   "name": "python",
   "nbconvert_exporter": "python",
   "pygments_lexer": "ipython3",
   "version": "3.7.7"
  }
 },
 "nbformat": 4,
 "nbformat_minor": 4
}
