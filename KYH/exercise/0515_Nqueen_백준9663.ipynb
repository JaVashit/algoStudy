{
 "cells": [
  {
   "cell_type": "markdown",
   "metadata": {},
   "source": [
    "https://www.acmicpc.net/problem/9663"
   ]
  },
  {
   "cell_type": "markdown",
   "metadata": {},
   "source": [
    "1. 참고한 풀이"
   ]
  },
  {
   "cell_type": "code",
   "execution_count": 22,
   "metadata": {},
   "outputs": [],
   "source": [
    "def dfs(queen, row, n):  #queen:들어가는 자리 list, row: 시작하는 행번호 , n: N X N 체스판\n",
    "    count = 0\n",
    "    if n == row:\n",
    "        return 1\n",
    "    for col in range(n):\n",
    "        queen[row] = col\n",
    "        for i in range(row):\n",
    "            if queen[i] == queen[row]:\n",
    "                break\n",
    "            if abs(queen[i]-queen[row]) == row - i:\n",
    "                break\n",
    "        else:\n",
    "            count += dfs(queen, row + 1, n)\n",
    "    return count\n",
    "\n",
    "\n",
    "def solution(n):\n",
    "    return dfs([0]*n, 0, n)       "
   ]
  },
  {
   "cell_type": "code",
   "execution_count": 23,
   "metadata": {},
   "outputs": [
    {
     "data": {
      "text/plain": [
       "92"
      ]
     },
     "execution_count": 23,
     "metadata": {},
     "output_type": "execute_result"
    }
   ],
   "source": [
    "solution(8)"
   ]
  },
  {
   "cell_type": "markdown",
   "metadata": {},
   "source": [
    "2. 내 풀이"
   ]
  },
  {
   "cell_type": "code",
   "execution_count": 41,
   "metadata": {},
   "outputs": [],
   "source": [
    "def nqueen(n):\n",
    "    cnt = 0\n",
    "    \n",
    "    queen = [None]*n\n",
    "    for col in range(n):\n",
    "        queen[0] = col #첫번째 row에서 좌표 잡을 column 정하기\n",
    "        \n",
    "    for row in range(1,n):\n",
    "        for col in range(n):\n",
    "            if col == queen[row-1] or abs(row - col) == abs(row-1 - queen[row-1]):\n",
    "                continue\n",
    "            else:\n",
    "                queen[row] = col\n",
    "  \n",
    "    if None not in queen: ###count하려면 for문이 하나 들어가야될거같은데 어떻게 들어가야되는지,,\n",
    "        cnt += 1\n",
    "        \n",
    "    return(cnt)           "
   ]
  },
  {
   "cell_type": "code",
   "execution_count": 42,
   "metadata": {},
   "outputs": [
    {
     "data": {
      "text/plain": [
       "1"
      ]
     },
     "execution_count": 42,
     "metadata": {},
     "output_type": "execute_result"
    }
   ],
   "source": [
    "nqueen(8)"
   ]
  },
  {
   "cell_type": "code",
   "execution_count": null,
   "metadata": {},
   "outputs": [],
   "source": []
  }
 ],
 "metadata": {
  "kernelspec": {
   "display_name": "Python 3",
   "language": "python",
   "name": "python3"
  },
  "language_info": {
   "codemirror_mode": {
    "name": "ipython",
    "version": 3
   },
   "file_extension": ".py",
   "mimetype": "text/x-python",
   "name": "python",
   "nbconvert_exporter": "python",
   "pygments_lexer": "ipython3",
   "version": "3.7.7"
  }
 },
 "nbformat": 4,
 "nbformat_minor": 4
}
