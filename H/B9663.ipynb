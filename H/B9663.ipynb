{
 "cells": [
  {
   "cell_type": "markdown",
   "metadata": {},
   "source": [
    "## N-Queen(B9663)"
   ]
  },
  {
   "cell_type": "code",
   "execution_count": 4,
   "metadata": {},
   "outputs": [
    {
     "name": "stdout",
     "output_type": "stream",
     "text": [
      "8\n"
     ]
    },
    {
     "data": {
      "text/plain": [
       "92"
      ]
     },
     "execution_count": 4,
     "metadata": {},
     "output_type": "execute_result"
    }
   ],
   "source": [
    "def check(i, col):\n",
    "    global answer\n",
    "    n=len(col)-1\n",
    "    if(promising(i, col)): # 조건 1과 2가 충족된다면 아래 코드를 실행한다.\n",
    "        if i==n:\n",
    "            answer+=1\n",
    "        else: \n",
    "            for j in range(1,n+1): #i와 j를 각각 1씩 늘려가면서 가능한 조건을 찾는다.\n",
    "                col[i+1]=j\n",
    "                check(i+1, col)\n",
    "\n",
    "def promising(i, col): # 조건1과 조건2를 체크할 함수\n",
    "    for k in range(1,i):\n",
    "        if (col[i]==col[k]) or (abs(col[i]-col[k])==i-k):\n",
    "            return False\n",
    "    return True\n",
    "\n",
    "def solution(n):\n",
    "    global answer\n",
    "    answer=0\n",
    "    \n",
    "    col=[0]*(n+1)\n",
    "    check(0, col)\n",
    "    return answer\n",
    "\n",
    "n=int(input())\n",
    "solution(n)"
   ]
  }
 ],
 "metadata": {
  "kernelspec": {
   "display_name": "Python 3",
   "language": "python",
   "name": "python3"
  },
  "language_info": {
   "codemirror_mode": {
    "name": "ipython",
    "version": 3
   },
   "file_extension": ".py",
   "mimetype": "text/x-python",
   "name": "python",
   "nbconvert_exporter": "python",
   "pygments_lexer": "ipython3",
   "version": "3.8.5"
  }
 },
 "nbformat": 4,
 "nbformat_minor": 4
}
