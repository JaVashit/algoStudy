{
 "cells": [
  {
   "cell_type": "markdown",
   "metadata": {},
   "source": [
    "## 단지번호 붙이기(P)"
   ]
  },
  {
   "cell_type": "code",
   "execution_count": 9,
   "metadata": {},
   "outputs": [
    {
     "name": "stdout",
     "output_type": "stream",
     "text": [
      "7\n",
      "0110100\n",
      "0110101\n",
      "1110101\n",
      "0000111\n",
      "0100000\n",
      "0111110\n",
      "0111000\n",
      "3\n",
      "7\n",
      "8\n",
      "9\n"
     ]
    }
   ],
   "source": [
    "n=int(input())\n",
    "a=[list(map(int, input())) for _ in range(n)]\n",
    "\n",
    "dx, dy=[-1,1,0,0], [0,0,-1,1]  # 왼, 오, 아래, 위 방향이동용 리스트 \n",
    "\n",
    "# 각 단지마다 집의 개수\n",
    "cnt=0\n",
    "ans=[]\n",
    "\n",
    "# 방문체크용\n",
    "dist=[[False]*n for _ in range(n)]\n",
    "\n",
    "def dfs(x,y):\n",
    "    # 집 개수 증가 & 방문체크\n",
    "    global cnt\n",
    "    cnt +=1\n",
    "    dist[x][y]=True\n",
    "    \n",
    "    # 인접한 노드 탐색하면서 연결되어 있으면 dfs 재귀호출 \n",
    "    for k in range(4):\n",
    "        nx, ny= x+dx[k], y+dy[k]\n",
    "        \n",
    "        if 0 <= nx<n and 0<=ny <n:\n",
    "            if a[nx][ny]==1 and dist[nx][ny]==False:\n",
    "                dfs(nx, ny)\n",
    "                \n",
    "# 모든 정점을 확인해서 시작점이 될 수 있는지 확인, 시작점 가능하면 dfs 탐색\n",
    "for i in range(n):\n",
    "    for j in range(n):\n",
    "        if a[i][j]==1 and dist[i][j]==False:\n",
    "            cnt=0\n",
    "            dfs(i,j)\n",
    "            ans.append(cnt)\n",
    "            \n",
    "print(len(ans))\n",
    "ans.sort()\n",
    "print('\\n'.join(map(str, ans)))"
   ]
  },
  {
   "cell_type": "markdown",
   "metadata": {},
   "source": [
    "## 영역 구하기(P)"
   ]
  },
  {
   "cell_type": "code",
   "execution_count": 43,
   "metadata": {},
   "outputs": [
    {
     "name": "stdout",
     "output_type": "stream",
     "text": [
      "5 7 3\n",
      "0 2 4 4\n",
      "1 1 2 5\n",
      "4 0 6 2\n",
      "3\n",
      "[1, 5, 10]\n"
     ]
    }
   ],
   "source": [
    "m,n,k = map(int, input().split())\n",
    "a= [[0]*n for _ in range(m)]\n",
    "dist=[[False]*n for _ in range(m)]\n",
    "\n",
    "count=0\n",
    "ans=[]\n",
    "dx, dy=[-1,1,0,0], [0,0,1,-1]\n",
    "\n",
    "for _ in range(k):\n",
    "    x1, y1, x2, y2 = map(int,input().split())\n",
    "    for i in range(y1,y2):\n",
    "        for j in range(x1,x2):\n",
    "            a[i][j]=1\n",
    "\n",
    "\n",
    "def dfs(x, y):\n",
    "    global count\n",
    "    count+=1\n",
    "    dist[y][x]=True\n",
    "\n",
    "    for k in range(4):\n",
    "        nx, ny =x+dx[k],y+dy[k]\n",
    "        if 0<=nx<n and 0<=ny<m:\n",
    "            if a[ny][nx]==1 and dist[ny][nx]==False:\n",
    "                dfs(nx,ny)\n",
    "\n",
    "for h in range(n):\n",
    "    for g in range(m):\n",
    "        if a[g][h]==1 and dist[g][h]==False:\n",
    "            count=0\n",
    "            dfs(g,h)\n",
    "            ans.append(count)\n",
    "            \n",
    "print(len(ans))\n",
    "print(ans)    "
   ]
  }
 ],
 "metadata": {
  "kernelspec": {
   "display_name": "Python 3",
   "language": "python",
   "name": "python3"
  },
  "language_info": {
   "codemirror_mode": {
    "name": "ipython",
    "version": 3
   },
   "file_extension": ".py",
   "mimetype": "text/x-python",
   "name": "python",
   "nbconvert_exporter": "python",
   "pygments_lexer": "ipython3",
   "version": "3.8.5"
  }
 },
 "nbformat": 4,
 "nbformat_minor": 4
}
