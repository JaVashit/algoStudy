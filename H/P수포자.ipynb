{
 "cells": [
  {
   "cell_type": "markdown",
   "metadata": {},
   "source": [
    "## 프로그래머스(수포자)"
   ]
  },
  {
   "cell_type": "code",
   "execution_count": 3,
   "metadata": {},
   "outputs": [],
   "source": [
    "def solution(answers):\n",
    "    answer=[]\n",
    "    list=[]\n",
    "    n=len(answers)\n",
    "\n",
    "    a= [1,2,3,4,5]\n",
    "    b= [2,1,2,3,2,4,2,5]\n",
    "    c= [3,3,1,1,2,2,4,4,5,5]\n",
    "\n",
    "    count1=0\n",
    "    count2=0\n",
    "    count3=0\n",
    "\n",
    "\n",
    "    for i in range(n):\n",
    "        if a[i%len(a)]==answers[i]:\n",
    "            count1+=1\n",
    "        if b[i%len(b)]==answers[i]:\n",
    "            count2+=1\n",
    "        if c[i%len(c)]==answers[i]:\n",
    "            count3+=1\n",
    "\n",
    "    list=[count1,count2,count3]\n",
    "\n",
    "    for person, count in enumerate(list):\n",
    "        if count==max(list):\n",
    "            answer.append(person+1)\n",
    "    return answer"
   ]
  },
  {
   "cell_type": "code",
   "execution_count": 7,
   "metadata": {},
   "outputs": [
    {
     "data": {
      "text/plain": [
       "[1]"
      ]
     },
     "execution_count": 7,
     "metadata": {},
     "output_type": "execute_result"
    }
   ],
   "source": [
    "solution([1,2,3,4,5])"
   ]
  }
 ],
 "metadata": {
  "kernelspec": {
   "display_name": "Python 3",
   "language": "python",
   "name": "python3"
  },
  "language_info": {
   "codemirror_mode": {
    "name": "ipython",
    "version": 3
   },
   "file_extension": ".py",
   "mimetype": "text/x-python",
   "name": "python",
   "nbconvert_exporter": "python",
   "pygments_lexer": "ipython3",
   "version": "3.8.5"
  }
 },
 "nbformat": 4,
 "nbformat_minor": 4
}
