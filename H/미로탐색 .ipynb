{
 "cells": [
  {
   "cell_type": "markdown",
   "metadata": {},
   "source": [
    "## 미로탐색"
   ]
  },
  {
   "cell_type": "code",
   "execution_count": 16,
   "metadata": {},
   "outputs": [
    {
     "name": "stdout",
     "output_type": "stream",
     "text": [
      "4 6\n",
      "110110\n",
      "110110\n",
      "111111\n",
      "111101\n",
      "9\n"
     ]
    }
   ],
   "source": [
    "from collections import deque \n",
    "dx=[0,0,1,-1]\n",
    "dy=[1,-1,0,0]\n",
    "\n",
    "n, m = map(int, input().split())\n",
    "a=[list(map(int, list(input()))) for _ in range(n)]\n",
    "q=deque()\n",
    "check= [[False]*m for _ in range(n)]\n",
    "dist=[[0]*m for _ in range(n)]\n",
    "\n",
    "# 시작점 \n",
    "q.append((0,0))\n",
    "check[0][0]=True\n",
    "dist[0][0]=1\n",
    "\n",
    "while q:\n",
    "    x, y = q.popleft()\n",
    "    for k in range(4):\n",
    "        nx, ny = x+dx[k], y+dy[k]\n",
    "        if 0 <= nx < n and 0 <= ny < m:\n",
    "            if check[nx][ny] == False and a[nx][ny] == 1:\n",
    "                q.append((nx,ny))\n",
    "                dist[nx][ny] = dist[x][y] + 1\n",
    "                check[nx][ny] = True\n",
    " \n",
    "print(dist[n-1][m-1])"
   ]
  },
  {
   "cell_type": "code",
   "execution_count": null,
   "metadata": {},
   "outputs": [],
   "source": []
  }
 ],
 "metadata": {
  "kernelspec": {
   "display_name": "Python 3",
   "language": "python",
   "name": "python3"
  },
  "language_info": {
   "codemirror_mode": {
    "name": "ipython",
    "version": 3
   },
   "file_extension": ".py",
   "mimetype": "text/x-python",
   "name": "python",
   "nbconvert_exporter": "python",
   "pygments_lexer": "ipython3",
   "version": "3.8.5"
  }
 },
 "nbformat": 4,
 "nbformat_minor": 4
}
