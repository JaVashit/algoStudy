{
 "cells": [
  {
   "cell_type": "markdown",
   "metadata": {},
   "source": [
    "# 정렬 알고리즘 \n",
    "\n",
    "> 1. 버블 정렬 <br>\n",
    "2. 단순 선택 정렬 <br>\n",
    "3. 단순 삽입 정렬 <br>\n",
    "4. 셸 정렬 <br>\n",
    "5. 퀵 정렬 <br>\n",
    "6. 병합 정렬 <br>\n",
    "7. 힙 정렬 <br>\n",
    "8. 도수 정렬 <br>"
   ]
  },
  {
   "cell_type": "markdown",
   "metadata": {},
   "source": [
    "## 1. 버블 정렬: 이웃한 두 원소의 대소 관계를 비교하여 필요에 따라 교환을 반복하는 알고리즘으로, 단순 교환 정렬이라고도 합니다."
   ]
  },
  {
   "cell_type": "markdown",
   "metadata": {},
   "source": [
    ">- 원소 수가 n인 배열에서 n-1 비교, 교환을 하면 가장 작은 원소인 1이 맨 앞으로 이동함. 이런 일련의 비교, 교환하는 과정을 '패스'라고 한다. \n",
    ">- 두 번째 패스의 비교 횟수는 첫 번째 패스보다 1번 적은 n-2번이다. \n",
    ">- 패스를 k번 수행하면 맨 앞부터 k개 원소가 정렬됨. 모든 정렬이 끝나려면 패스를 n-1번 수행해야함. (마지막은 자동으로 결정되기 때문에)"
   ]
  },
  {
   "cell_type": "markdown",
   "metadata": {},
   "source": [
    "### 실습 6-1"
   ]
  },
  {
   "cell_type": "code",
   "execution_count": 11,
   "metadata": {
    "scrolled": true
   },
   "outputs": [
    {
     "name": "stdout",
     "output_type": "stream",
     "text": [
      "버블 정렬을 수행합니다.\n",
      "원소 소를 입력하세요.: 7\n",
      "x[0]:6\n",
      "x[1]:4\n",
      "x[2]:3\n",
      "x[3]:7\n",
      "x[4]:1\n",
      "x[5]:9\n",
      "x[6]:8\n",
      "오름차순으로 정렬했습니다.\n",
      "x[0] = 1\n",
      "x[1] = 3\n",
      "x[2] = 4\n",
      "x[3] = 6\n",
      "x[4] = 7\n",
      "x[5] = 8\n",
      "x[6] = 9\n"
     ]
    }
   ],
   "source": [
    "# 버블 정렬 알고리즘 구현하기\n",
    "\n",
    "from typing import MutableSequence\n",
    "\n",
    "def bubble_sort(a: MutableSequence) -> None:\n",
    "    \"\"\"버블 정렬\"\"\"\n",
    "    n=len(a)\n",
    "    for i in range(n-1):   # 첫번째꺼는 계속 결정되니깐 / n-1번 수행해야됨   \n",
    "        for j in range(n-1, i, -1):    ## 패스 부분  # a[]로 들어가는 index 개념이니깐 n-1부터  # j의 종료값은 i+1\n",
    "            if a[j-1] > a[j]:\n",
    "                a[j-1], a[j]= a[j], a[j-1] # 앞에 있는게 더 크면 뒤로 보냄 \n",
    "                \n",
    "if __name__ =='__main__':\n",
    "    print('버블 정렬을 수행합니다.')\n",
    "    num = int(input('원소 소를 입력하세요.: '))\n",
    "    x=[None]*num\n",
    "    \n",
    "    for i in range(num):\n",
    "        x[i]=int(input(f'x[{i}]:'))\n",
    "        \n",
    "    bubble_sort(x)  # 배열 x를 버블 정렬\n",
    "        \n",
    "    print('오름차순으로 정렬했습니다.')\n",
    "    for i in range(num):\n",
    "        print(f'x[{i}] = {x[i]}')  # key(index)로 값을 내보냄 \n",
    "            "
   ]
  },
  {
   "cell_type": "markdown",
   "metadata": {},
   "source": [
    "### 실습 6-2 교환과정 출력"
   ]
  },
  {
   "cell_type": "code",
   "execution_count": 19,
   "metadata": {
    "scrolled": false
   },
   "outputs": [
    {
     "name": "stdout",
     "output_type": "stream",
     "text": [
      "버블 정렬을 수행합니다.\n",
      "원소 소를 입력하세요.: 7\n",
      "x[0]:6\n",
      "x[1]:4\n",
      "x[2]:3\n",
      "x[3]:7\n",
      "x[4]:1\n",
      "x[5]:9\n",
      "x[6]:8\n",
      "패스 1\n",
      " 6  4  3  7  1  9+ 8\n",
      " 6  4  3  7  1 - 8  9\n",
      " 6  4  3  7+ 1  8  9\n",
      " 6  4  3+ 1  7  8  9\n",
      " 6  4+ 1  3  7  8  9\n",
      " 6+ 1  4  3  7  8  9\n",
      " 1 6 4 3 7 8 9\n",
      "패스 2\n",
      " 1  6  4  3  7  8 - 9\n",
      " 1  6  4  3  7 - 8  9\n",
      " 1  6  4  3 - 7  8  9\n",
      " 1  6  4+ 3  7  8  9\n",
      " 1  6+ 3  4  7  8  9\n",
      " 1 3 6 4 7 8 9\n",
      "패스 3\n",
      " 1  3  6  4  7  8 - 9\n",
      " 1  3  6  4  7 - 8  9\n",
      " 1  3  6  4 - 7  8  9\n",
      " 1  3  6+ 4  7  8  9\n",
      " 1 3 4 6 7 8 9\n",
      "패스 4\n",
      " 1  3  4  6  7  8 - 9\n",
      " 1  3  4  6  7 - 8  9\n",
      " 1  3  4  6 - 7  8  9\n",
      " 1 3 4 6 7 8 9\n",
      "패스 5\n",
      " 1  3  4  6  7  8 - 9\n",
      " 1  3  4  6  7 - 8  9\n",
      " 1 3 4 6 7 8 9\n",
      "패스 6\n",
      " 1  3  4  6  7  8 - 9\n",
      " 1 3 4 6 7 8 9\n",
      "비교를 21번 했습니다.\n",
      "교환을 8번 했습니다.\n",
      "오름차순으로 정렬했습니다.\n",
      "x[0] = 1\n",
      "x[1] = 3\n",
      "x[2] = 4\n",
      "x[3] = 6\n",
      "x[4] = 7\n",
      "x[5] = 8\n",
      "x[6] = 9\n"
     ]
    }
   ],
   "source": [
    "# 버블 정렬 알고리즘 구현하기(정렬 과정을 출력)\n",
    "\n",
    "from typing import MutableSequence\n",
    "\n",
    "def bubble_sort(a: MutableSequence) -> None:\n",
    "    \"\"\"버블 정렬\"\"\"\n",
    "    ccnt=0 # 비교횟수  ##\n",
    "    scnt=0 # 교환횟수  ##\n",
    "    n=len(a)\n",
    "    for i in range(n-1):\n",
    "        print(f'패스 {i+1}')   ##\n",
    "        for j in range(n-1, i, -1):\n",
    "            for m in range(0, n-1):  ##\n",
    "                print(f'{a[m]:2}' + (' 'if m!=j-1 else '+' if a[j-1] > a[j] else ' -'), end='')  ##\n",
    "            print(f'{a[n-1]:2}')    ## \n",
    "            ccnt +=1                ##\n",
    "            if a[j-1] > a[j]:     \n",
    "                scnt +=1            ##\n",
    "                a[j-1], a[j]= a[j], a[j-1] \n",
    "        for m in range(0, n-1):    ##\n",
    "            print(f'{a[m]:2}', end='')   ##\n",
    "        print(f'{a[n-1]:2}')             ##\n",
    "    print(f'비교를 {ccnt}번 했습니다.')  ##\n",
    "    print(f'교환을 {scnt}번 했습니다.')  ##\n",
    "        \n",
    "        \n",
    "        \n",
    "if __name__ =='__main__':\n",
    "    print('버블 정렬을 수행합니다.')\n",
    "    num = int(input('원소 소를 입력하세요.: '))\n",
    "    x=[None]*num\n",
    "    \n",
    "    for i in range(num):\n",
    "        x[i]=int(input(f'x[{i}]:'))\n",
    "        \n",
    "    bubble_sort(x)  \n",
    "        \n",
    "    print('오름차순으로 정렬했습니다.')\n",
    "    for i in range(num):\n",
    "        print(f'x[{i}] = {x[i]}')  \n",
    "            "
   ]
  },
  {
   "cell_type": "markdown",
   "metadata": {},
   "source": [
    "### 실습 6-3 교환 횟수에 따라 중단 방식을 적용하여 개선함 "
   ]
  },
  {
   "cell_type": "code",
   "execution_count": 22,
   "metadata": {},
   "outputs": [],
   "source": [
    "from typing import MutableSequence\n",
    "\n",
    "def bubble_sort(a: MutableSequence ) -> None:\n",
    "    \"\"\"버블 정렬(교환 횟수에 따른 중단)\"\"\"\n",
    "    n=len(a)\n",
    "    for i in range(n-1):\n",
    "        exchange =0 # 패스에서 교환 횟수\n",
    "        for j in range(n-i, i, -1):\n",
    "            if a[j-1]>a[j]:\n",
    "                a[j-1], a[j] = a[j], a[j-1]\n",
    "                exchng +=1\n",
    "        if exchng == 0:\n",
    "            break"
   ]
  },
  {
   "cell_type": "markdown",
   "metadata": {},
   "source": [
    "- 마지막 패스를 종료한 시점에서 exchng 값이 0이면 정렬을 마친 것이므로, break 문에 의해 바깥쪽 for 문을 강제로 탈출하고 함수 실행을 종료함."
   ]
  },
  {
   "cell_type": "markdown",
   "metadata": {},
   "source": [
    "### 실습 6-4 알고리즘의 개선2- 이미 정렬된 원소를 제외한 나머지만 비교, 교환하도록 스캔 범위를 제한하는 방법"
   ]
  },
  {
   "cell_type": "code",
   "execution_count": 27,
   "metadata": {},
   "outputs": [],
   "source": [
    "def bubble_sort(a:MutableSequence) -> None:\n",
    "    \"\"\"버블 정렬(스캔 범위를 제한)\"\"\"\n",
    "    n=len(a)\n",
    "    k=0\n",
    "    while k < n-1:\n",
    "        last=n-1\n",
    "        for j in range(n-1, k, -1):\n",
    "            if a[j-1] > a[j]:\n",
    "                a[j-1], a[j]=a[j], a[j-1]\n",
    "                last=j  # 마지막으로 교환한 두 원소 가운데 오른쪽 원소인 a[j] 인덱스를 저장 \n",
    "        k=last  # 다음에 수행할 스캔 범위를 a[k]로 제한함 "
   ]
  },
  {
   "cell_type": "markdown",
   "metadata": {},
   "source": [
    "### 실습 6-5 셰이커 정렬 알고리즘 구현하기 "
   ]
  },
  {
   "cell_type": "markdown",
   "metadata": {},
   "source": [
    "- 홀수 패스에서는 가장 작은 원소를 맨 앞으로 이동시키고, 짝수 패스에서는 가장 큰 원소를 맨 뒤로 이동시켜 패스의 스캔 방향을 번갈아 바꿈"
   ]
  },
  {
   "cell_type": "code",
   "execution_count": 34,
   "metadata": {},
   "outputs": [],
   "source": [
    "def shaker_sort(a:MutableSequence) -> None:\n",
    "    \"\"\"셰이커 정렬\"\"\"\n",
    "    left=0\n",
    "    right=len(a)-1\n",
    "    last=right\n",
    "    while left<right: \n",
    "        for j in range(right, left, -1):  # 나열된 원소를 맨 뒤에서 맨 앞으로 스캔\n",
    "            if a[j-1]>a[j]:\n",
    "                a[j-1],a[j]=a[j], a[j-1]\n",
    "                last=j\n",
    "        left=last\n",
    "        \n",
    "        for j in range(left, right):  # 원소를 맨 앞에서 맨 뒤로 스캔 \n",
    "            if a[j]> a[j+1]:\n",
    "                a[j], a[j+1]=a[j+1], a[j]\n",
    "                last=j\n",
    "        right=last"
   ]
  },
  {
   "cell_type": "markdown",
   "metadata": {},
   "source": [
    "## 2. 단순 선택 정렬: 가장 작은 원소부터 선택해 알맞은 위치로 옮기는 작업을 반복하며 정렬하는 알고리즘 "
   ]
  },
  {
   "cell_type": "markdown",
   "metadata": {},
   "source": [
    "> - 아직 정렬하지 않은 범위에서 값이 가장 작은 원소를 선택하고, 아직 정렬하지 않은 부분의 맨 앞 원소와 교환하는 작업을 반복 \n",
    "> 1. 아직 정렬하지 않은 부분에서 값이 가장 작은 원소 a[min]을 선택한다. \n",
    "> 2. a[min]과 아직 정렬하지 않은 부분에서 맨 앞에 있는 원소를 교환한다. \n",
    "> - 이과정을 n-1번 반복"
   ]
  },
  {
   "cell_type": "code",
   "execution_count": null,
   "metadata": {},
   "outputs": [],
   "source": [
    "# for i in range(n-1):\n",
    "#     min # a[i], ..., a[n-1]에서 키값이 가장 작은 원소의 인덱스\n",
    "#     a[i]와 a[min]의 값을 교환합니다. "
   ]
  },
  {
   "cell_type": "markdown",
   "metadata": {},
   "source": [
    "### 실습 6-6"
   ]
  },
  {
   "cell_type": "code",
   "execution_count": 6,
   "metadata": {},
   "outputs": [],
   "source": [
    "# 단순 선택 정렬 알고리즘 구현하기 \n",
    "\n",
    "from typing import MutableSequence\n",
    "\n",
    "def selection_sort(a:MutableSequence) -> None:\n",
    "    \"\"\"단순 선택 정렬\"\"\"\n",
    "    n=len(a)\n",
    "    for i in range(n-1):  # n-1번 수행 \n",
    "        min=i # 정렬할 부분에서 가장 작은 원소의 인덱스\n",
    "        for j in range(i+1, n):\n",
    "            if a[j]<a[min]:\n",
    "                min=j\n",
    "        a[i], a[min]=a[min], a[i] # 정렬할 부분에서 맨 앞에 원소와 작은 원소를 교환             "
   ]
  },
  {
   "cell_type": "markdown",
   "metadata": {},
   "source": [
    "- 그러나 중복된 값으로 정렬이 필요없는 데이터의 위치를 바꾸었으므로 이 알고리즘은 안정적이지 않음 "
   ]
  },
  {
   "cell_type": "markdown",
   "metadata": {},
   "source": [
    "## 3. 단순 삽입 정렬: 주목한 원소보다 더 앞쪽에서 알맞은 위치로 삽입하며 정렬하는 알고리즘. "
   ]
  },
  {
   "cell_type": "markdown",
   "metadata": {},
   "source": [
    "> - 단순 선택 정렬과 비슷해 보이지만 값이 가장 작은 원소를 선택하지 않는다는 점이 다르다. \n",
    "> - 아직 정렬되지 않은 부분의 맨 앞 원소를 정렬된 부분의 알맞은 위치에 삽입하는 작업은 n-1번 반복한다. \n",
    "> - 셔틀 정렬이라고도 한다. "
   ]
  },
  {
   "cell_type": "code",
   "execution_count": 51,
   "metadata": {},
   "outputs": [],
   "source": [
    "# for i in range(1, n):\n",
    "#     tmp <- a[i]를 넣습니다. \n",
    "#     tmp를 a[0], ..., a[i-1]의 알맞은 위치에 삽입합니다. "
   ]
  },
  {
   "cell_type": "code",
   "execution_count": 52,
   "metadata": {},
   "outputs": [],
   "source": [
    "# j=i\n",
    "# tmp=a[i]\n",
    "# while j>0 and a[j-1]>tmp:\n",
    "#     a[j]=a[j-1]\n",
    "#     j-= 1\n",
    "#     a[j]=temp"
   ]
  },
  {
   "cell_type": "markdown",
   "metadata": {},
   "source": [
    "> 반복 제어 변수 j에 i를, tmp에 a[i]를 대입하고 다음 조건 중 하나를 만족할 때까지 j를 1씩 감소시키면서 대입 작업을 반복\n",
    "> - 종료조건 1: 정렬된 배열의 왼쪽 끝에 도달한 경우\n",
    "> - 종료조건 2: tmp보다 작거나 키 값이 같은 원소 a[j-1]를 발견할 경우 \n",
    "    \n",
    "> - 계속조건1: j가 0보다 큰 경우 \n",
    "> - 계속조건2: a[j-1]의 값이 tmp보다 큰 경우 "
   ]
  },
  {
   "cell_type": "markdown",
   "metadata": {},
   "source": [
    "## 실습 6-7"
   ]
  },
  {
   "cell_type": "code",
   "execution_count": 58,
   "metadata": {
    "scrolled": false
   },
   "outputs": [
    {
     "name": "stdout",
     "output_type": "stream",
     "text": [
      "단순 삽입 정렬을 수행합니다.\n",
      "원소 수를 입력하세요.: 7\n",
      "x[0]: 6\n",
      "x[1]: 4\n",
      "x[2]: 3\n",
      "x[3]: 7\n",
      "x[4]: 1\n",
      "x[5]: 9\n",
      "x[6]: 8\n",
      "오름차순으로 정렬했습니다.\n",
      "x[0]==1\n",
      "x[1]==3\n",
      "x[2]==4\n",
      "x[3]==6\n",
      "x[4]==7\n",
      "x[5]==8\n",
      "x[6]==9\n"
     ]
    }
   ],
   "source": [
    "# 단순 삽입 정렬 알고리즘 구현하기 \n",
    "\n",
    "def insertion_sort(a:MutableSequence)-> None:\n",
    "    \"\"\"단순 삽입 정렬\"\"\"\n",
    "    n=len(a)\n",
    "    for i in range(1,n):  # 두번째 원소부터 \n",
    "        j=i\n",
    "        tmp=a[i]\n",
    "        while j>0 and a[j-1]>tmp:\n",
    "            a[j]=a[j-1]\n",
    "            j-=1\n",
    "        a[j]=tmp  # a[i]\n",
    "        \n",
    "if __name__ == '__main__':\n",
    "    print('단순 삽입 정렬을 수행합니다.')\n",
    "    num=int(input('원소 수를 입력하세요.: '))\n",
    "    x=[None]*num  # 원소 수가 num인 배열을 생성 \n",
    "    \n",
    "    for i in range(num):\n",
    "        x[i]=int(input(f'x[{i}]: '))\n",
    "        \n",
    "    insertion_sort(x)  # 배열 x를 단순 삽입 정렬\n",
    "    \n",
    "    print('오름차순으로 정렬했습니다.')\n",
    "    for i in range(num):\n",
    "        print(f'x[{i}]=={x[i]}')"
   ]
  },
  {
   "cell_type": "markdown",
   "metadata": {},
   "source": [
    "- 서로 떨어져 있는 원소를 교환하지 않으므로 안정적이라고 할 수 있음. 원소의 비교 횟수와 교환 횟수는 n^2/2번이다. "
   ]
  },
  {
   "cell_type": "markdown",
   "metadata": {},
   "source": [
    "#### 지금까지 다룬 3가지 단순 정렬(버블, 선택, 삽입) 알고리즘의 시간 복잡도는 모두 O(n^2)으로 프로그램의 효율이 좋지 않다. "
   ]
  },
  {
   "cell_type": "markdown",
   "metadata": {},
   "source": [
    "## 4. 셸 정렬: 단순 삽입 정렬의 장점은 살리고 단점은 보완하여 더 빠르게 정렬하는 알고리즘 "
   ]
  },
  {
   "cell_type": "markdown",
   "metadata": {},
   "source": [
    "> - 장점: 이미 정렬을 마쳤거나 정렬이 거의 끝나가는 상태에서는 속도가 아주 빠르다. \n",
    "> - 단점: 삽입할 위치가 멀리 떨어져 있으면 이동 횟수가 많아진다.\n",
    "> - 먼저 정렬할 배열의 원소를 그룹으로 나눠 각 그룹별로 정렬을 수행함. \n",
    "> - 그 후 정렬된 그룹을 합치는 작업을 반복하여 원소의 이동 횟수를 줄이는 방법"
   ]
  },
  {
   "cell_type": "markdown",
   "metadata": {},
   "source": [
    "### 실습 6-8"
   ]
  },
  {
   "cell_type": "code",
   "execution_count": 71,
   "metadata": {
    "scrolled": true
   },
   "outputs": [
    {
     "name": "stdout",
     "output_type": "stream",
     "text": [
      "단순 삽입 정렬을 수행합니다.\n",
      "원소 수를 입력하세요.: 8\n",
      "x[0]: 8\n",
      "x[1]: 1\n",
      "x[2]: 4\n",
      "x[3]: 2\n",
      "x[4]: 7\n",
      "x[5]: 6\n",
      "x[6]: 3\n",
      "x[7]: 5\n",
      "오름차순으로 정렬했습니다.\n",
      "x[0]==1\n",
      "x[1]==2\n",
      "x[2]==3\n",
      "x[3]==4\n",
      "x[4]==5\n",
      "x[5]==6\n",
      "x[6]==7\n",
      "x[7]==8\n"
     ]
    }
   ],
   "source": [
    "# 셸 정렬 알고리즘 구현하기 \n",
    "\n",
    "def shell_sort(a:MutableSequence) -> None:\n",
    "    \"\"\"셀 정렬\"\"\"\n",
    "    n=len(a)\n",
    "    h=n//2\n",
    "    while h>0:\n",
    "        for i in range(h, n):\n",
    "            j=i-h\n",
    "            tmp=a[i]\n",
    "            while j>=0 and a[j]>tmp:\n",
    "                a[j+h]=a[j]\n",
    "                j-= h\n",
    "            a[j+h]= tmp\n",
    "        h//=2\n",
    "        \n",
    "        \n",
    "if __name__ == '__main__':\n",
    "    print('단순 삽입 정렬을 수행합니다.')\n",
    "    num=int(input('원소 수를 입력하세요.: '))\n",
    "    x=[None]*num  # 원소 수가 num인 배열을 생성 \n",
    "    \n",
    "    for i in range(num):\n",
    "        x[i]=int(input(f'x[{i}]: '))\n",
    "        \n",
    "    insertion_sort(x)  # 배열 x를 단순 삽입 정렬\n",
    "    \n",
    "    print('오름차순으로 정렬했습니다.')\n",
    "    for i in range(num):\n",
    "        print(f'x[{i}]=={x[i]}')\n",
    "            "
   ]
  },
  {
   "cell_type": "markdown",
   "metadata": {},
   "source": [
    "- 애써 그룹으로 나누어서 정렬했지만 충분히 그 기능을 하지 못할 수 있음.\n",
    "> 이 문제를 해결하려면 h값이 서로 배수가 되지 않도록 해야함. -> 원소가 충분히 뒤섞이므로 효율 좋은 정렬을 기대할 수 있음. "
   ]
  },
  {
   "cell_type": "markdown",
   "metadata": {},
   "source": [
    "### 실습 6-9"
   ]
  },
  {
   "cell_type": "code",
   "execution_count": 7,
   "metadata": {},
   "outputs": [],
   "source": [
    "# 셀 정렬 알고리즘 구현하기(h * 3 +1 수열 사용)\n",
    "\n",
    "def shell_sort(a:MutableSequence) -> None:\n",
    "    \"\"\"셀 정렬(h*3+1의 수열 사용)\"\"\"\n",
    "    n=len(a)\n",
    "    h=1\n",
    "    \n",
    "    while h<n//9:\n",
    "        h=h*3+1\n",
    "        \n",
    "    while h>0:\n",
    "        for i in range(h, n):\n",
    "            j=i-h\n",
    "            tmp=a[i]\n",
    "            while j >=0 and a[j] >tmp:\n",
    "                a[j+h]=a[j]\n",
    "                j -= h\n",
    "            a[j+h]=tmp\n",
    "    h//=3  "
   ]
  },
  {
   "cell_type": "markdown",
   "metadata": {},
   "source": [
    "- 셸 정렬 알고리즘은 이웃하지 않고 떨어져 있는 원소를 서로 교환하므로 안정적이지 않다. "
   ]
  },
  {
   "cell_type": "markdown",
   "metadata": {},
   "source": [
    "## 5. 퀵 정렬: 가장 빠른 정렬 알고리즘으로 알려져 있으며 널리 사용된다. "
   ]
  },
  {
   "cell_type": "markdown",
   "metadata": {},
   "source": [
    "### 실습 6-10"
   ]
  },
  {
   "cell_type": "code",
   "execution_count": 5,
   "metadata": {},
   "outputs": [
    {
     "name": "stdout",
     "output_type": "stream",
     "text": [
      "배열을 나눕니다.\n",
      "원소 수를 입력하세요.:9\n",
      "x[0]:1\n",
      "x[1]:8\n",
      "x[2]:7\n",
      "x[3]:4\n",
      "x[4]:5\n",
      "x[5]:2\n",
      "x[6]:6\n",
      "x[7]:3\n",
      "x[8]:9\n",
      "피벗은 5입니다.\n",
      "피벗 이하인 그룹입니다.\n",
      "1 3 2 4 5\n",
      "피벗과 일치하는 그룹입니다.\n",
      "5\n",
      "피벗 이상인 그룹입니다.\n",
      "5 7 6 8 9\n"
     ]
    }
   ],
   "source": [
    "# 배열을 두 그룹으로 나누기 \n",
    "\n",
    "from typing import MutableSequence\n",
    "\n",
    "def partition(a:MutableSequence) ->None:\n",
    "    \"\"\"배열을 나누어 출력\"\"\"\n",
    "    n=len(a)\n",
    "    pl=0   # 왼쪽 커서\n",
    "    pr=n-1 # 오른쪽 커서\n",
    "    x=a[n//2] # 피벗(가운데 원소)\n",
    "    \n",
    "    # 배열 a를 피벗 x로 나누기 \n",
    "    while pl <= pr:\n",
    "        while a[pl] <x: pl +=1  # 계속 오른쪽 index로 \n",
    "        while a[pr] >x: pr -=1  # 계속 왼쪽 index로\n",
    "        if pl <=pr:\n",
    "            a[pl], a[pr]=a[pr], a[pl]\n",
    "            pl+=1\n",
    "            pr-=1\n",
    "    \n",
    "    print(f'피벗은 {x}입니다.')\n",
    "    \n",
    "    print('피벗 이하인 그룹입니다.')\n",
    "    print(*a[0:pl])    # a[0]~a[pl-1]\n",
    "    \n",
    "    if pl>pr+1:\n",
    "        print('피벗과 일치하는 그룹입니다.')\n",
    "        print(*a[pr+1:pl])  # a[pr+1] ~ a[pl-1]\n",
    "        \n",
    "    print('피벗 이상인 그룹입니다.')\n",
    "    print(*a[pr+1:n])  # a[pr+1]~a[n-1]\n",
    "    \n",
    "if __name__ == '__main__':\n",
    "    print('배열을 나눕니다.')\n",
    "    num=int(input('원소 수를 입력하세요.:'))\n",
    "    x=[None]*num    #원소 수가 num인 배열을 생성 \n",
    "    \n",
    "    for i in range(num):\n",
    "        x[i]=int(input(f'x[{i}]:'))\n",
    "    partition(x)    # 배열 x를 나누어서 출력 \n",
    "\n"
   ]
  },
  {
   "cell_type": "markdown",
   "metadata": {},
   "source": [
    "- 피벗을 어떤 값으로 선택하느냐에 따라 배열을 나누는 것과 정렬하는 성능에 영향을 미침."
   ]
  },
  {
   "cell_type": "markdown",
   "metadata": {},
   "source": [
    "### 실습 6-11"
   ]
  },
  {
   "cell_type": "code",
   "execution_count": 12,
   "metadata": {},
   "outputs": [
    {
     "name": "stdout",
     "output_type": "stream",
     "text": [
      "퀵 정렬을 수행합니다.\n",
      "원소 수를 입력하세요.:9\n",
      "x[0]:5\n",
      "x[1]:8\n",
      "x[2]:4\n",
      "x[3]:2\n",
      "x[4]:6\n",
      "x[5]:1\n",
      "x[6]:3\n",
      "x[7]:9\n",
      "x[8]:7\n",
      "오름차순으로 정렬했습니다.\n",
      "x[0]=1\n",
      "x[1]=2\n",
      "x[2]=3\n",
      "x[3]=4\n",
      "x[4]=5\n",
      "x[5]=6\n",
      "x[6]=7\n",
      "x[7]=8\n",
      "x[8]=9\n"
     ]
    }
   ],
   "source": [
    "# 퀵 정렬 알고리즘 구현하기 \n",
    "\n",
    "from typing import MutableSequence\n",
    "\n",
    "def qsort(a:MutableSequence, left:int, right:int) ->None:\n",
    "    \"\"\"a[left]~a[right]를 퀵 정렬\"\"\"\n",
    "    \n",
    "    pl=left  # 왼쪽 커서\n",
    "    pr=right # 오른쪽 커서\n",
    "    x=a[(left+right)//2]  # 피벗(가운데 원소)\n",
    "    \n",
    "    # 배열 a를 피벗 x로 나누기 \n",
    "    while pl <= pr:\n",
    "        while a[pl] <x: pl +=1  # 계속 오른쪽 index로 \n",
    "        while a[pr] >x: pr -=1  # 계속 왼쪽 index로\n",
    "        if pl <=pr:\n",
    "            a[pl], a[pr]=a[pr], a[pl]\n",
    "            pl+=1\n",
    "            pr-=1\n",
    "            \n",
    "    if left<pr: qsort(a, left, pr)   # 좌우 각 그룹을 다시 나누기 위해 재귀 호출을 추가 \n",
    "    if pl<right: qsort(a, pl, right)\n",
    "        \n",
    "def quick_sort(a:MutableSequence)-> None:  # 인수를 1개 전달받아 qsort()함수를 호출하는 구조 \n",
    "    \"\"\"퀵 정렬\"\"\"\n",
    "    qsort(a, 0, len(a)-1)   \n",
    "   \n",
    "\n",
    "if __name__ == '__main__':\n",
    "    print('퀵 정렬을 수행합니다.')\n",
    "    num=int(input('원소 수를 입력하세요.:'))\n",
    "    x=[None]*num    #원소 수가 num인 배열을 생성 \n",
    "    \n",
    "    for i in range(num):\n",
    "        x[i]=int(input(f'x[{i}]:'))\n",
    "    quick_sort(x)    # 배열 x를 퀵 정렬\n",
    "    \n",
    "    print('오름차순으로 정렬했습니다.')\n",
    "    for i in range(num):\n",
    "        print(f'x[{i}]={x[i]}')"
   ]
  },
  {
   "cell_type": "markdown",
   "metadata": {},
   "source": [
    "- 하지만 퀵 정렬은 서로 이웃하지 않은 원소를 교환하므로 안정적이지 않은 알고리즘이다. "
   ]
  },
  {
   "cell_type": "markdown",
   "metadata": {},
   "source": [
    "### 실습 6-12(비재귀적인 퀵 정렬 만들기)"
   ]
  },
  {
   "cell_type": "code",
   "execution_count": null,
   "metadata": {},
   "outputs": [],
   "source": [
    "## 비재귀적인 퀵 정렬 구현하기 \n",
    "\n",
    "from stack import Stack  \n",
    "from typing import MutableSequence\n",
    "\n",
    "def qsort(a: MutableSequence, left:int, right:int)-> None:\n",
    "    \"\"\"a[left]~a[right]를 퀵 정렬(비재귀적인 퀵 정렬)\"\"\"\n",
    "    range=Stack(right-left+1)   # 스택 생성 \n",
    "    \n",
    "    range.push((left, right))  # 바깥쪽()는 함수를 호출하는 연산자, 안쪽()는 left와 right를 튜플로 만들기 위해 식을 결합하는 연산자\n",
    "    \n",
    "    while not range.is_empty():  # 스택이 비어 있지 않은 동안 작업을 반복함.\n",
    "        pl, pr=left, right= range.pop()   # 왼쪽, 오른쪽 커서를 꺼냄 \n",
    "        x=a[(left+right)//2]   # 피벗(가운데 원소) \n",
    "        \n",
    "        while pl <= pr:\n",
    "            while a[pl] <x: pl+=1\n",
    "            while a[pr] >x: pr-=1\n",
    "            if pl <=pr:\n",
    "                a[pl], a[pr]=a[pr] a[pl]\n",
    "                pl +=1\n",
    "                pr -=1          # pl은 5가 되고, pr은 4가 됨.\n",
    "        if left <pr: range.push((left, pr))   # 왼쪽 그룹의 커서를 저장  \n",
    "        if pl<right: range.pust((pl, right))  # 오른쪽 그룹의 커서를 저장 "
   ]
  },
  {
   "cell_type": "markdown",
   "metadata": {},
   "source": [
    "- range: 나눌 범위에서 맨 앞 원소의 인덱스와 맨 끝 원소의 인덱스를 조합한 튜플 스택\n",
    "- 스택의 크기 > 원소 수가 많은 쪽의 그룹을 먼저 푸시하면 스택에 동시에 쌓이는 데이터 개수가 적어짐.\n",
    "- 피벗 선택하기 > 책 p.271 참고 (방법 1,2)\n",
    "- 퀵 정렬의 시간 복잡도 > 원소 수가 적은 경우엔 그다지 빠른 알고리즘이 아님 "
   ]
  },
  {
   "cell_type": "code",
   "execution_count": 18,
   "metadata": {},
   "outputs": [],
   "source": [
    "### 실습 6-13 생략 "
   ]
  },
  {
   "cell_type": "markdown",
   "metadata": {},
   "source": [
    "## 6. 병합 정렬: 배열을 앞부분과 뒷부분의 두 그룹으로 나누어 각각 정렬한 후 병합하는 작업을 반복하는 알고리즘 "
   ]
  },
  {
   "cell_type": "markdown",
   "metadata": {},
   "source": [
    "- 배열의 원소 수가 2개 이상인 경우\n",
    "> 1. 배열의 앞부분을 병합 정렬로 정렬한다. \n",
    "> 2. 배열의 뒷부분을 병합 정렬로 정렬한다. \n",
    "> 3. 배열의 앞부분고 뒷부분을 병합한다. "
   ]
  },
  {
   "cell_type": "markdown",
   "metadata": {},
   "source": [
    "### 실습 6-14"
   ]
  },
  {
   "cell_type": "code",
   "execution_count": 25,
   "metadata": {},
   "outputs": [
    {
     "name": "stdout",
     "output_type": "stream",
     "text": [
      "정렬을 마친 두 배열의 병합을 수행합니다.\n",
      "배열 a와 b를 병합하여 배열 c에 저장했습니다.\n",
      "배열 a: [2, 4, 6, 8, 11, 13]\n",
      "배열 b: [1, 2, 3, 4, 9, 16, 21]\n",
      "배열 c: [1, 2, 2, 3, 4, 4, 6, 8, 9, 11, 13, 16, 21]\n"
     ]
    }
   ],
   "source": [
    "# 정렬을 마친 두 배열을 병합하기 \n",
    "\n",
    "from typing import Sequence, MutableSequence\n",
    "\n",
    "def merge_sorted_list(a: Sequence, b:Sequence, c:MutableSequence) -> None:\n",
    "    \"\"\"정렬을 마친 배열 a와 b를 병합하여 c에 저장\"\"\"\n",
    "    pa, pb, pc=0,0,0  # 각 배열의 커서 (인덱스 저장)\n",
    "    na, nb, nc=len(a), len(b), len(c)\n",
    "    \n",
    "    while pa<na and pb<nb:   # pa와 pb를 비교하여 작은 값을 pc에 저장 \n",
    "        if a[pa]<=b[pb]:\n",
    "            c[pc]=a[pa]\n",
    "            pa+=1\n",
    "        else: \n",
    "            c[pc]=b[pb]\n",
    "            pb+=1\n",
    "        pc +=1\n",
    "        \n",
    "    while pa<na:  # a에 남은 원소를 c에 복사\n",
    "        c[pc] =a[pa]\n",
    "        pa+=1\n",
    "        pc+=1\n",
    "    while pb<nb:  # b에 남은 원소를 c에 복사 \n",
    "        c[pc]=b[pb]\n",
    "        pb+=1\n",
    "        pc+=1\n",
    "        \n",
    "if __name__ =='__main__':\n",
    "    a=[2,4,6,8,11,13]\n",
    "    b=[1,2,3,4,9,16,21]\n",
    "    c=[None]*(len(a)+len(b))\n",
    "    print('정렬을 마친 두 배열의 병합을 수행합니다.')\n",
    "    \n",
    "    merge_sorted_list(a,b,c)  # 배열 a와 b를 병합하여 c에 저장 \n",
    "    \n",
    "    print('배열 a와 b를 병합하여 배열 c에 저장했습니다.')\n",
    "    print(f'배열 a: {a}')\n",
    "    print(f'배열 b: {b}')\n",
    "    print(f'배열 c: {c}')"
   ]
  },
  {
   "cell_type": "markdown",
   "metadata": {},
   "source": [
    "### 실습 6-15 "
   ]
  },
  {
   "cell_type": "code",
   "execution_count": 38,
   "metadata": {},
   "outputs": [
    {
     "name": "stdout",
     "output_type": "stream",
     "text": [
      "병합 정렬을 수행합니다.\n",
      "원소 수를 입력하세요.:9\n",
      "x[0]:5\n",
      "x[1]:8\n",
      "x[2]:4\n",
      "x[3]:2\n",
      "x[4]:6\n",
      "x[5]:1\n",
      "x[6]:3\n",
      "x[7]:9\n",
      "x[8]:7\n",
      "오름차순으로 정렬했습니다.\n",
      "x[0]=1\n",
      "x[1]=2\n",
      "x[2]=3\n",
      "x[3]=4\n",
      "x[4]=5\n",
      "x[5]=6\n",
      "x[6]=7\n",
      "x[7]=8\n",
      "x[8]=9\n"
     ]
    }
   ],
   "source": [
    "# 병합 정렬 알고리즘 구현하기\n",
    "\n",
    "from typing import Sequence, MutableSequence\n",
    "\n",
    "def merge_sort(a:MutableSequence) -> None:\n",
    "    \"\"\"병합 정렬 \"\"\"\n",
    "    def _merge_sort(a:MutableSequence, left:int, right:int) -> None:\n",
    "        \"\"\"a[left]~a[right]를 재귀적으로 병합 정렬\"\"\"\n",
    "        if left <right:\n",
    "            center=(left+right)//2\n",
    "            _merge_sort(a, left, center)    # 배열 앞부분을 병합 정렬 \n",
    "            _merge_sort(a, center+1, right) # 배열 뒷부분을 병합 정렬\n",
    "            \n",
    "            p=j=0\n",
    "            i=k=left\n",
    "            \n",
    "            while i <=center:   # 앞부분을 buff에 복사 \n",
    "                buff[p]=a[i] \n",
    "                p+=1\n",
    "                i +=1\n",
    "                \n",
    "            while i<=right and j<p: # 뒷부분과 buff로 복사한 배열의 앞부분 p개를 병합한 결과를 배열 a에 저장 \n",
    "                if buff[j]<=a[i]:\n",
    "                    a[k]=buff[j]    # 더 작은 값을 넣어 \n",
    "                    j+=1\n",
    "                else: \n",
    "                    a[k]=a[i]\n",
    "                    i +=1\n",
    "                k+=1\n",
    "                \n",
    "            while j<p:       # 배열 buff에 남아 있는 원소를 배열 a에 복사함 (j는 이동한거, p는 처음에 넣은거)\n",
    "                a[k]=buff[j]\n",
    "                k+=1\n",
    "                j+=1\n",
    "    n=len(a)\n",
    "    buff=[None]*n       # 작업용 배열을 생성 # 병합 결과를 임시 저장 \n",
    "    _merge_sort(a,0,n-1)  # 배열 전체를 병합 정렬\n",
    "    del buff    # 작업용 배열을 소멸 \n",
    "    \n",
    "    \n",
    "if __name__=='__main__':\n",
    "    print('병합 정렬을 수행합니다.')\n",
    "    num=int(input('원소 수를 입력하세요.:'))\n",
    "    x=[None]*num   # 원소 수가 num인 배열을 생성\n",
    "   \n",
    "    for i in range(num):\n",
    "        x[i]=int(input(f'x[{i}]:'))\n",
    "    \n",
    "    merge_sort(x)   # 배열 x를 병합 정렬\n",
    "    \n",
    "    print('오름차순으로 정렬했습니다.')\n",
    "    for i in range(num):\n",
    "                 print(f'x[{i}]={x[i]}')\n"
   ]
  },
  {
   "cell_type": "markdown",
   "metadata": {},
   "source": [
    "- 정렬과 병합이라는 2가지 과정이 있음 \n",
    "- 서로 떨어져 있는 원소를 교환하는 것이 아니므로 안정적임"
   ]
  },
  {
   "cell_type": "markdown",
   "metadata": {},
   "source": [
    "## 7. 힙 정렬: 선택 정렬을 응용한 알고리즘"
   ]
  },
  {
   "cell_type": "markdown",
   "metadata": {},
   "source": [
    "- 힙의 특성을 이용하여 정렬하는 알고리즘\n",
    "- 힙: '부모의 값이 자식의 값보다 항상 크다'는 조건을 만족하는 완전 이진 트리\n",
    "- 부모의 값이 자식의 값보다 항상 작아도 힙이라고 함. 즉, 두 값의 대소 관계가 일정하면 됨 \n",
    "- 형제의 대소관계가 정해져 있지 않으므로 부분 순서 트리라고도 함.\n",
    "- '힙에서 최대값은 루트에 위치한다'는 특징을 이용하여 정렬하는 알고리즘 \n",
    "- **이때 중요한 것은 배열의 처음 상태가 힙의 요구 사항을 만족하지 않을 수 있기 때문에 적용하기 전에 배열을 반드시 힙으로 만들어야함.**"
   ]
  },
  {
   "cell_type": "code",
   "execution_count": 2,
   "metadata": {},
   "outputs": [
    {
     "name": "stdout",
     "output_type": "stream",
     "text": [
      "힙 정렬을 수행합니다.\n",
      "원소 수를 입력하세요.:7\n",
      "x[0]:6\n",
      "x[1]:4\n",
      "x[2]:3\n",
      "x[3]:7\n",
      "x[4]:1\n",
      "x[5]:9\n",
      "x[6]:8\n",
      "오름차순으로 정렬했습니다.\n",
      "x[0]=1\n",
      "x[1]=3\n",
      "x[2]=4\n",
      "x[3]=6\n",
      "x[4]=7\n",
      "x[5]=8\n",
      "x[6]=9\n"
     ]
    }
   ],
   "source": [
    "# 힙 정렬 알고리즘 구현하기 \n",
    "\n",
    "from typing import MutableSequence\n",
    "\n",
    "def heap_sort(a: MutableSequence)-> None:\n",
    "    \"\"\"힙 정렬\"\"\"\n",
    "    \n",
    "    def down_heap(a:MutableSequence, left: int, right:int)->None: # 루트를 삭제한 힙의 재구성 \n",
    "        \"\"\"a[left]~a[right]를 힙으로 만들기\"\"\"\n",
    "        temp=a[left]  # 루트\n",
    "        \n",
    "        parent=left \n",
    "        while parent <(right+1) //2:\n",
    "            cl= parent*2+1 # 왼쪽 자식\n",
    "            cr=cl+1   # 오른쪽 자식\n",
    "            child=cr if cr <=right and a[cr]>a[cl] else cl   #큰 값을 선택 \n",
    "            if temp >=a[child]:\n",
    "                break\n",
    "            a[parent] =a[child]\n",
    "            parent=child\n",
    "        a[parent] =temp\n",
    "    \n",
    "    n=len(a)\n",
    "    \n",
    "    for i in range((n-1)//2, -1, -1): # a[i]~a[n-1]을 힙으로 만들기   ## 1단계(배열을 힙으로 만들기)\n",
    "        down_heap(a, i, n-1)\n",
    "        \n",
    "    for i in range(n-1, 0, -1):\n",
    "        a[0], a[i] = a[i], a[0]  # 최대값이 a[0]와 마지막 원소를 교환   ## 2단계(힙 정렬 알고리즘 알아보기)\n",
    "        down_heap(a,0,i-1)       # a[0]~a[i-1]을 힙으로 만들기 \n",
    "        \n",
    "if __name__=='__main__':\n",
    "    print('힙 정렬을 수행합니다.')\n",
    "    num=int(input('원소 수를 입력하세요.:'))\n",
    "    x=[None]*num    # 원소 수가 num인 배열을 생성\n",
    "    \n",
    "    for i in range(num):\n",
    "        x[i]=int(input(f'x[{i}]:'))\n",
    "    \n",
    "    heap_sort(x)\n",
    "    \n",
    "    print('오름차순으로 정렬했습니다.')\n",
    "    for i in range(num):\n",
    "        print(f'x[{i}]={x[i]}')"
   ]
  },
  {
   "cell_type": "markdown",
   "metadata": {},
   "source": [
    "- 1단계: down_heap() 함수를 호출하여 배열 a를 힙으로 만든다.\n",
    "- 2단계: 최댓값인 루트 a[0]을 꺼내 배열의 마지막 원소와 교환하고, 배열의 남은 부분을 다시 힙으로 만드는 과정을 반복하여 정렬을 수행한다."
   ]
  },
  {
   "cell_type": "markdown",
   "metadata": {},
   "source": [
    "## 8. 도수 정렬: 원소의 대소 관계를 판단하지 않고 빠르게 정렬하는 알고리즘, 분포수 세기 정렬이라고도 함.  "
   ]
  },
  {
   "cell_type": "markdown",
   "metadata": {},
   "source": [
    "> 1단계:도수 분포표 만들기 <br>\n",
    "2단계: 누적 도수 분포표 만들기 <br>\n",
    "3단계: 작업용 배열 만들기 <br>\n",
    "4단계: 배열 복사하기 "
   ]
  },
  {
   "cell_type": "markdown",
   "metadata": {},
   "source": [
    "### 실습 6-17"
   ]
  },
  {
   "cell_type": "code",
   "execution_count": 15,
   "metadata": {},
   "outputs": [
    {
     "name": "stdout",
     "output_type": "stream",
     "text": [
      "도수 정렬을 수행합니다.\n",
      "원소 수를 입력하세요.:7\n",
      "x[0]:22\n",
      "x[1]:5\n",
      "x[2]:11\n",
      "x[3]:32\n",
      "x[4]:99\n",
      "x[5]:68\n",
      "x[6]:70\n",
      "오름차순으로 정렬했습니다.\n",
      "x[0]=5\n",
      "x[1]=11\n",
      "x[2]=22\n",
      "x[3]=32\n",
      "x[4]=68\n",
      "x[5]=70\n",
      "x[6]=99\n"
     ]
    }
   ],
   "source": [
    "# 도수 정렬 알고리즘 구현하기 \n",
    "\n",
    "def fsort(a:MutableSequence, max:int) ->None:\n",
    "    \"\"\"도수 정렬(배열 원솟값은 0이상 max이하)\"\"\"\n",
    "    n=len(a)   # 정렬할 배열 a\n",
    "    f=[0]*(max+1)  # 누적 도수 분포표 배열 f\n",
    "    b=[0]*n  #작업용 배열 b\n",
    "    \n",
    "    for i in range(n): f[a[i]] +=1 # 1단계\n",
    "    for i in range(1, max+1): f[i] += f[i-1] # 2단계 \n",
    "    for i in range(n-1,-1,-1): f[a[i]] -=1; b[f[a[i]]]=a[i] # 3단계\n",
    "    for i in range(n): a[i]=b[i]  # 4단계\n",
    "    \n",
    "def counting_sort(a:MutableSequence)->None:\n",
    "    \"\"\"도수 정렬\"\"\"\n",
    "    fsort(a, max(a))\n",
    "    \n",
    "if __name__=='__main__':\n",
    "    print('도수 정렬을 수행합니다.')\n",
    "    num=int(input('원소 수를 입력하세요.:'))\n",
    "    x=[None]*num   # 원소 수가 num인 배열을 생성     \n",
    "    \n",
    "    for i in range(num):   # 양수만 입력받도록 제한 \n",
    "        while True:\n",
    "            x[i]=int(input(f'x[{i}]:'))\n",
    "            if x[i]>=0: break\n",
    "    \n",
    "    counting_sort(x)  # 배열 x를 도수 정렬\n",
    "    \n",
    "    print('오름차순으로 정렬했습니다.')\n",
    "    for i in range(num):\n",
    "        print(f'x[{i}]={x[i]}')"
   ]
  },
  {
   "cell_type": "markdown",
   "metadata": {},
   "source": [
    "- 데이터 비교, 교환 작업이 필요없이 매우 빠름\n",
    "- 단일 for 문만 사용하고 재귀 호출이나 이중 if 문이 없이 매우 효율이 좋음\n",
    "- 하지만 최솟값과 최댓값을 미리 알고 있는 경우에만 적용할 수 있음\n",
    "- 각 단계에서 배열 원소를 건너뛰지 않고 순서대로 스캔하므로 안정적이지만 맨 앞부터 스캔하면 안정적이지 않음"
   ]
  }
 ],
 "metadata": {
  "kernelspec": {
   "display_name": "Python 3",
   "language": "python",
   "name": "python3"
  },
  "language_info": {
   "codemirror_mode": {
    "name": "ipython",
    "version": 3
   },
   "file_extension": ".py",
   "mimetype": "text/x-python",
   "name": "python",
   "nbconvert_exporter": "python",
   "pygments_lexer": "ipython3",
   "version": "3.8.5"
  }
 },
 "nbformat": 4,
 "nbformat_minor": 4
}
