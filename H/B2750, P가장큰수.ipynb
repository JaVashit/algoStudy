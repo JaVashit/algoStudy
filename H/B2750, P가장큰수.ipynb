{
 "cells": [
  {
   "cell_type": "markdown",
   "metadata": {},
   "source": [
    "## 수 정렬하기(2750번)"
   ]
  },
  {
   "cell_type": "code",
   "execution_count": 11,
   "metadata": {},
   "outputs": [
    {
     "name": "stdout",
     "output_type": "stream",
     "text": [
      "5\n",
      "5\n",
      "2\n",
      "3\n",
      "4\n",
      "1\n",
      "1\n",
      "2\n",
      "3\n",
      "4\n",
      "5\n"
     ]
    }
   ],
   "source": [
    "# 단순 삽입 정렬 \n",
    "from typing import MutableSequence\n",
    "\n",
    "def sort(a:MutableSequence, n) -> None:\n",
    "    for i in range(1,n):\n",
    "        tmp=a[i]\n",
    "        while i>0 and a[i-1]>tmp: # 앞의 값이 더 크면 \n",
    "            a[i]=a[i-1]\n",
    "            i-=1\n",
    "        a[i]=tmp\n",
    "    for k in range(n):\n",
    "        print(f'{a[k]}')\n",
    "    \n",
    "if __name__ =='__main__':\n",
    "    n=int(input())\n",
    "    number=[None]*n\n",
    "    for h in range(n):\n",
    "        number[h]=int(input())\n",
    "    \n",
    "    sort(number, n)"
   ]
  },
  {
   "cell_type": "markdown",
   "metadata": {},
   "source": [
    "## 가장 큰 수(프로그래머스)"
   ]
  },
  {
   "cell_type": "code",
   "execution_count": 43,
   "metadata": {},
   "outputs": [],
   "source": [
    "def solution(numbers):\n",
    "    numbers=list(map(str, numbers)) # 배열을 str으로 변환하게끔 매핑하여 배열로 리턴\n",
    "    numbers.sort(key=lambda x: x*3, reverse=True)\n",
    "    return str(int(''.join(numbers)))  # [0,0,0,0] 같은 경우 때문에 int하고 str\n",
    "    print(numbers)"
   ]
  },
  {
   "cell_type": "code",
   "execution_count": 45,
   "metadata": {
    "scrolled": true
   },
   "outputs": [
    {
     "data": {
      "text/plain": [
       "'9534330'"
      ]
     },
     "execution_count": 45,
     "metadata": {},
     "output_type": "execute_result"
    }
   ],
   "source": [
    "solution([3,30,34,5,9])"
   ]
  }
 ],
 "metadata": {
  "kernelspec": {
   "display_name": "Python 3",
   "language": "python",
   "name": "python3"
  },
  "language_info": {
   "codemirror_mode": {
    "name": "ipython",
    "version": 3
   },
   "file_extension": ".py",
   "mimetype": "text/x-python",
   "name": "python",
   "nbconvert_exporter": "python",
   "pygments_lexer": "ipython3",
   "version": "3.8.5"
  }
 },
 "nbformat": 4,
 "nbformat_minor": 4
}
