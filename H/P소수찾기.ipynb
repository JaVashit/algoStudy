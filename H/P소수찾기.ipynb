{
 "cells": [
  {
   "cell_type": "markdown",
   "metadata": {},
   "source": [
    "# 소수 찾기(프로그래머스)"
   ]
  },
  {
   "cell_type": "code",
   "execution_count": 17,
   "metadata": {},
   "outputs": [
    {
     "name": "stdout",
     "output_type": "stream",
     "text": [
      "3\n",
      "2\n"
     ]
    }
   ],
   "source": [
    "import math \n",
    "from itertools import permutations\n",
    "\n",
    "def is_prime(n):\n",
    "    \"\"\"소수판별 함수\"\"\"\n",
    "    if n==0 or n==1:\n",
    "        return False\n",
    "    else:\n",
    "        for i in range(2, int(math.sqrt(n))+1):\n",
    "            if n%i ==0:\n",
    "                return False\n",
    "        \n",
    "        return True\n",
    "\n",
    "def solution(numbers):\n",
    "    answer=[]\n",
    "    n=len(numbers)\n",
    "    for i in range(1, n+1):  \n",
    "        arr=list(permutations(numbers, i)) # permutation(순열)을 사용해 i개씩 묶어지는 list 생성  \n",
    "        for j in range(len(arr)):  # 생성한 list(arr) 길이만큼 for문 실행 \n",
    "            num=int(''.join(map(str, arr[j]))) # list(arr)의 값들은 tubple로 되어있으므로 \n",
    "            if is_prime(num): \n",
    "                answer.append(num)   # is_prime() 함수가 True일 경우 (소수일 경우) num 추가 \n",
    "    answer=list(set(answer)) # 같은 값이 나올 수도 있기 때문에 set()함수를 통해 중복값 제거\n",
    "    return len(answer)\n",
    "\n",
    "print(solution(\"17\"))\n",
    "print(solution(\"011\"))  "
   ]
  },
  {
   "cell_type": "code",
   "execution_count": 14,
   "metadata": {},
   "outputs": [
    {
     "name": "stdout",
     "output_type": "stream",
     "text": [
      "0 1 2 3 4 5\n"
     ]
    }
   ],
   "source": [
    "# tip\n",
    "number = [0, 1, 2, 3, 4, 5]\n",
    "print(\" \".join(map(str, number)))"
   ]
  }
 ],
 "metadata": {
  "kernelspec": {
   "display_name": "Python 3",
   "language": "python",
   "name": "python3"
  },
  "language_info": {
   "codemirror_mode": {
    "name": "ipython",
    "version": 3
   },
   "file_extension": ".py",
   "mimetype": "text/x-python",
   "name": "python",
   "nbconvert_exporter": "python",
   "pygments_lexer": "ipython3",
   "version": "3.8.5"
  }
 },
 "nbformat": 4,
 "nbformat_minor": 4
}
