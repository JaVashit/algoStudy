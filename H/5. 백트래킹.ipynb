{
 "cells": [
  {
   "cell_type": "markdown",
   "metadata": {},
   "source": [
    "# 되추적(backtraking)"
   ]
  },
  {
   "cell_type": "code",
   "execution_count": 2,
   "metadata": {},
   "outputs": [],
   "source": [
    "# https://www.youtube.com/watch?v=Ar40zcPoKEI&t=469s\n",
    "# https://www.youtube.com/watch?v=MsDvf_cwZgo\n",
    "## https://www.youtube.com/watch?v=HRwFgtiqHH0"
   ]
  },
  {
   "cell_type": "markdown",
   "metadata": {},
   "source": [
    "- 임의의 집합에서 주어진 기준대로 <br>\n",
    "원소의 순서를 선택하는 문제를 푸는데 적합 \n",
    "- 트리 자료구조의 변형된 깊이우선탐색(DFS)\n",
    "- 모든 문제 사례에 대해서 효율적이지 않지만, <br>\n",
    "많은 문제 사례에 대해서 효율적이다.<br>\n",
    "예) n-queens, 부분집합의 합, 0-1 배낭문제, etc."
   ]
  },
  {
   "cell_type": "markdown",
   "metadata": {},
   "source": [
    "예) 미로찾기 문제- 막다른 길을 만났을 때 -> 트리 탐색 문제로 해석 <br>\n",
    "DFS를 통한 문제해결: 트리 구조의 preorder 방문 "
   ]
  },
  {
   "cell_type": "markdown",
   "metadata": {},
   "source": [
    "- 상태공간트리(State Space Tree) <br>\n",
    "상태공간:해답을 탐색하기 위한 탐색 공간 <br>\n",
    "상태공간트리: 탐색 공간을 트리 형태의 구조로 '암묵적으로'해석"
   ]
  },
  {
   "cell_type": "markdown",
   "metadata": {},
   "source": [
    "### 백트래킹 기법 <br>\n",
    "- 상태공간트리를 깊이우선탐색으로 탐색\n",
    "- 방문 중인 노드에서 더 하위 노드로 가면 해답이 없을 경우 <br>\n",
    "해당 노드의 하위 트리를 방문하지 않고 부모 노드로 되돌아감(backtrack)\n",
    "\n",
    "### 유망함(promising) <br>\n",
    "- 방문 중인 노드에서 하위 노드가 해답을 발견할 가능성이 있으면 유망\n",
    "- 하위 노드에서 해답을 발견할 가능성이 없으면 유망하지 않음\n",
    "\n",
    "### 백트래킹과 가지치기(pruning) <br>\n",
    "- 백트래킹: 상태공간트리를 DFS로 탐색\n",
    "- 방문 중인 노드가 유망한지 체크\n",
    "- 만약 유망하지 않으면, 부모 노드로 되돌아감\n",
    "\n",
    "### 가지치기\n",
    "- 유망하지 않으면 하위 트리를 가지치기함\n",
    "- 가지치기한 상태: 방문한 노드의 방문하지 않는 하위 트리(pruned state)\n",
    "\n",
    "### 백트래킹 알고리즘의 구현 <br>\n",
    "- 상태 공간 트리를 실제로 구현할 필요는 없음\n",
    "- 현재 조사중인 가지의 값에 대해 추적만 하면 됨\n",
    "- 상태공리는 암묵적으로 존재한다고 이해하면 됨"
   ]
  },
  {
   "cell_type": "code",
   "execution_count": 13,
   "metadata": {},
   "outputs": [],
   "source": [
    "#void checknone(node v)\n",
    "#{\n",
    "#    node u;\n",
    "#    if (promising(v))\n",
    "#       if (v에 해답이 있으면)\n",
    "#              해답을 출력;\n",
    "#       else\n",
    "#              for (v의 모든 자식 노드 u에 대해서)\n",
    "#                    checknode(u);\n",
    "#}"
   ]
  },
  {
   "cell_type": "markdown",
   "metadata": {},
   "source": [
    "### 예제 n-Queens문제 <br>\n",
    "- 8-Queens(n=8) 문제의 일반화된 문제\n",
    "- n x n 체스보드에 n개의 퀸을 배치하는 문제 <br>\n",
    "어떤 퀸도 다른 퀸에 의하여 잡아먹히지 않도록 배치해야됨<br>\n",
    "즉, 같은 행, 열, 대각선에는 다른 퀸을 놓을 수 없음\n",
    "\n",
    "> 백트래킹으로 문제 해결: 임의의 집합에서 기준에 따라 원소의 순서를 선택\n",
    "> n-Queens 문제에 적용:\n",
    "> - 임의의 집합(set): 체스보드에 있는 n^2개의 가능한 위치\n",
    "> - 기준: 새로 놓을 퀸이 다른 퀸을 위협할 수 없음\n",
    "> - 원소의 순서: 퀸을 놓을 수 있는 n개의 위치 "
   ]
  },
  {
   "cell_type": "markdown",
   "metadata": {},
   "source": [
    "### 4-Queens 문제(n=4)\n",
    "- 4개의 퀸을 4x4 체스보드에 배치- 기본가정으로 같은 행에는 놓을 수 없음\n",
    "- 후보 해답: 4x4x4x4=256가지의 탐색 공간이 있음 "
   ]
  },
  {
   "cell_type": "markdown",
   "metadata": {},
   "source": [
    "1. 같은 열 체크\n",
    "- col[i]:i번째 행에서 퀸이 놓여있는 열의 위치 <br>\n",
    "- col[k]:k번째 행에서 퀸이 놓여있는 열의 위치\n",
    "- col[i]==col[k]면 nonpromising\n",
    "\n",
    "2. 대각선 체크\n",
    "- col[i]와 col[k]의 절대값으로 대각선 위협 판단 "
   ]
  },
  {
   "cell_type": "code",
   "execution_count": 57,
   "metadata": {},
   "outputs": [],
   "source": [
    "def check(i, col):\n",
    "    global answer\n",
    "    n=len(col)-1\n",
    "    if(promising(i, col)): # 조건 1과 2가 충족된다면 아래 코드를 실행한다.\n",
    "        if i==n:\n",
    "            answer+=1\n",
    "        else: \n",
    "            for j in range(1,n+1): #i와 j를 각각 1씩 늘려가면서 가능한 조건을 찾는다.\n",
    "                col[i+1]=j\n",
    "                check(i+1, col)\n",
    "\n",
    "def promising(i, col): # 조건1과 조건2를 체크할 함수\n",
    "    for k in range(1,i):\n",
    "        if (col[i]==col[k]) or (abs(col[i]-col[k])==i-k):\n",
    "            return False\n",
    "    return True\n",
    "\n",
    "def solution(n):\n",
    "    global answer\n",
    "    answer=0\n",
    "    \n",
    "    col=[0]*(n+1)\n",
    "    check(0, col)\n",
    "    return answer\n",
    "            "
   ]
  },
  {
   "cell_type": "code",
   "execution_count": 58,
   "metadata": {},
   "outputs": [
    {
     "data": {
      "text/plain": [
       "2"
      ]
     },
     "execution_count": 58,
     "metadata": {},
     "output_type": "execute_result"
    }
   ],
   "source": [
    "solution(4)"
   ]
  },
  {
   "cell_type": "markdown",
   "metadata": {},
   "source": [
    "- 다른 예시 "
   ]
  },
  {
   "cell_type": "code",
   "execution_count": 59,
   "metadata": {},
   "outputs": [],
   "source": [
    "def dfs(queen, row, n):\n",
    "    count = 0\n",
    "    if n == row:\n",
    "        return 1\n",
    "    for col in range(n):\n",
    "        queen[row] = col\n",
    "        for i in range(row):\n",
    "            if queen[i] == queen[row]:\n",
    "                break\n",
    "            if abs(queen[i]-queen[row]) == row - i:\n",
    "                break\n",
    "        else:\n",
    "            count += dfs(queen, row + 1, n)\n",
    "    return count\n",
    "def solution(n):\n",
    "    return dfs([0]*n, 0, n)"
   ]
  },
  {
   "cell_type": "code",
   "execution_count": 60,
   "metadata": {},
   "outputs": [
    {
     "data": {
      "text/plain": [
       "2"
      ]
     },
     "execution_count": 60,
     "metadata": {},
     "output_type": "execute_result"
    }
   ],
   "source": [
    "solution(4)"
   ]
  }
 ],
 "metadata": {
  "kernelspec": {
   "display_name": "Python 3",
   "language": "python",
   "name": "python3"
  },
  "language_info": {
   "codemirror_mode": {
    "name": "ipython",
    "version": 3
   },
   "file_extension": ".py",
   "mimetype": "text/x-python",
   "name": "python",
   "nbconvert_exporter": "python",
   "pygments_lexer": "ipython3",
   "version": "3.8.5"
  }
 },
 "nbformat": 4,
 "nbformat_minor": 4
}
