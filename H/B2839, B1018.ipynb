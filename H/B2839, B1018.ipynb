{
 "cells": [
  {
   "cell_type": "markdown",
   "metadata": {},
   "source": [
    "## 설탕배달(B2839)"
   ]
  },
  {
   "cell_type": "code",
   "execution_count": 22,
   "metadata": {},
   "outputs": [
    {
     "name": "stdout",
     "output_type": "stream",
     "text": [
      "4\n",
      "-1\n"
     ]
    }
   ],
   "source": [
    "n=int(input())\n",
    "\n",
    "s5=n//5\n",
    "s3=(n%5)//3  # 나머지에 3이 몇개가 들어갈 수 있는지 확인 \n",
    "while (s5*5) + (s3*3) !=n:\n",
    "    s5 -=1\n",
    "    if s5<0:\n",
    "        s3=0\n",
    "        break   # 결과는 -1이 나옴 \n",
    "    s3=(n-(s5*5))//3\n",
    "print(s5+s3)"
   ]
  },
  {
   "cell_type": "markdown",
   "metadata": {},
   "source": [
    "## 체스판 다시 칠하기(B1018)"
   ]
  },
  {
   "cell_type": "code",
   "execution_count": 9,
   "metadata": {},
   "outputs": [
    {
     "name": "stdout",
     "output_type": "stream",
     "text": [
      "8 8\n",
      "WBWBWBWB\n",
      "BWBWBWBW\n",
      "WBWBWBWB\n",
      "BWBBBWBW\n",
      "WBWBWBWB\n",
      "BWBWBWBW\n",
      "WBWBWBWB\n",
      "BWBWBWBW\n",
      "1\n"
     ]
    }
   ],
   "source": [
    "# 브루트포스 문제 \n",
    "n,m=map(int, input().split())\n",
    "l=[]\n",
    "mini=[]\n",
    "\n",
    "for a in range(n):\n",
    "    l.append(input())\n",
    "    \n",
    "for i in range(n-7):\n",
    "    for j in range(m-7):\n",
    "        idx1=0\n",
    "        idx2=0\n",
    "        for b in range(i, i+8):\n",
    "            for c in range(j, j+8):\n",
    "                if (b+c)%2==0:\n",
    "                    if l[b][c] !='W': idx1+=1\n",
    "                    if l[b][c] !='B': idx2+=1\n",
    "                else:\n",
    "                    if l[b][c] !='B': idx1+=1\n",
    "                    if l[b][c] !='W': idx2+=1\n",
    "        mini.append(idx1)  \n",
    "        mini.append(idx2)  \n",
    "print(min(mini))           # 칠해야 하는 개수의 최소값"
   ]
  }
 ],
 "metadata": {
  "kernelspec": {
   "display_name": "Python 3",
   "language": "python",
   "name": "python3"
  },
  "language_info": {
   "codemirror_mode": {
    "name": "ipython",
    "version": 3
   },
   "file_extension": ".py",
   "mimetype": "text/x-python",
   "name": "python",
   "nbconvert_exporter": "python",
   "pygments_lexer": "ipython3",
   "version": "3.8.5"
  }
 },
 "nbformat": 4,
 "nbformat_minor": 4
}
